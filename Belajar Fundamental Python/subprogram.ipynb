{
 "cells": [
  {
   "cell_type": "markdown",
   "id": "f162fa25",
   "metadata": {},
   "source": [
    "### Fungsi Anonim (Lambda) pada Python\n",
    "\n",
    "**Fungsi anonim** atau **lambda** di Python adalah fungsi sederhana yang didefinisikan tanpa nama menggunakan kata kunci `lambda`. Fungsi ini biasanya digunakan untuk operasi sederhana yang hanya membutuhkan satu baris kode.\n",
    "\n",
    "#### Cara Penggunaan Lambda\n",
    "\n",
    "Sintaks dasar:\n",
    "```python\n",
    "lambda arg1, arg2, ...: ekspresi\n",
    "```\n",
    "Contoh:\n",
    "```python\n",
    "tambah = lambda x, y: x + y\n",
    "print(tambah(2, 3))  # Output: 5\n",
    "```\n",
    "\n",
    "#### Kapan Lambda Digunakan?\n",
    "\n",
    "- Saat membutuhkan fungsi sederhana yang hanya digunakan sekali atau beberapa kali.\n",
    "- Saat ingin menghemat penulisan kode, terutama pada fungsi-fungsi seperti `map()`, `filter()`, dan `sorted()`.\n",
    "- Cocok untuk operasi singkat yang tidak memerlukan fungsi dengan nama khusus.\n",
    "\n",
    "#### Contoh Kasus pada Project\n",
    "\n",
    "Misal, dalam sebuah project data processing, ingin mengalikan setiap elemen dalam list dengan 2:\n",
    "\n",
    "```python\n",
    "data = [1, 2, 3, 4]\n",
    "hasil = list(map(lambda x: x * 2, data))\n",
    "print(hasil)  # Output: [2, 4, 6, 8]\n",
    "```\n",
    "\n",
    "Pada kasus lain, ingin mengurutkan list of tuples berdasarkan elemen kedua:\n",
    "\n",
    "```python\n",
    "data = [('a', 3), ('b', 1), ('c', 2)]\n",
    "data.sort(key=lambda x: x[1])\n",
    "print(data)  # Output: [('b', 1), ('c', 2), ('a', 3)]\n",
    "```\n",
    "\n",
    "**Kesimpulan:**  \n",
    "Gunakan lambda untuk fungsi sederhana, terutama saat digunakan sebagai argumen fungsi lain, agar kode lebih ringkas dan mudah dibaca. Namun, untuk operasi kompleks, sebaiknya gunakan fungsi biasa (`def`)."
   ]
  },
  {
   "cell_type": "code",
   "execution_count": null,
   "id": "8a657b17",
   "metadata": {},
   "outputs": [],
   "source": [
    "\"\"\"\n",
    "TODO:\n",
    "Buatlah sebuah fungsi bernama \"minimal\" dengan ketentuan berikut.\n",
    "- Menerima dua buah argumen berupa number, yaitu a dan b.\n",
    "- Mengembalikan nilai terkecil antara a atau b.\n",
    "- Bila nilai keduanya sama, kembalikan dengan nilai a.\n",
    "\"\"\"\n",
    "\n",
    "def minimal(a,b):\n",
    "    if a < b:\n",
    "        return a\n",
    "    elif a > b:\n",
    "        return b\n",
    "    else:\n",
    "        return a\n",
    "    \n",
    "print(minimal(10, 20))  # Output: 10\n",
    "print(minimal(20, 10))  # Output: 10"
   ]
  }
 ],
 "metadata": {
  "language_info": {
   "name": "python"
  }
 },
 "nbformat": 4,
 "nbformat_minor": 5
}
