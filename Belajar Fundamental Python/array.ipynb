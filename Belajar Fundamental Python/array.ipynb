{
 "cells": [
  {
   "cell_type": "code",
   "execution_count": 1,
   "id": "2d0b0cbb",
   "metadata": {},
   "outputs": [
    {
     "name": "stdout",
     "output_type": "stream",
     "text": [
      "Array: array('i', [1, 2, 3, 4, 5])\n",
      "Elemen pertama: 1\n",
      "Setelah append: array('i', [1, 2, 3, 4, 5, 6])\n",
      "Setelah remove: array('i', [1, 2, 4, 5, 6])\n",
      "Tuple: (1, 2, 3, 4, 5)\n",
      "Elemen pertama: 1\n",
      "List Linear: [1, 2, 3, 4, 5]\n",
      "Elemen pertama: 1\n",
      "Setelah append: [1, 2, 3, 4, 5, 6]\n",
      "Setelah remove: [1, 2, 4, 5, 6]\n",
      "List Non-Linear: [[1, 2], [3, 4], [5, 6]]\n",
      "Elemen pertama dari list pertama: 1\n",
      "Setelah append: [[1, 2], [3, 4], [5, 6], [7, 8]]\n",
      "Dictionary: {'nama': 'Alice', 'umur': 25, 'kota': 'Jakarta'}\n",
      "Nama: Alice\n",
      "Setelah menambahkan pekerjaan: {'nama': 'Alice', 'umur': 25, 'kota': 'Jakarta', 'pekerjaan': 'Programmer'}\n",
      "Setelah menghapus umur: {'nama': 'Alice', 'kota': 'Jakarta', 'pekerjaan': 'Programmer'}\n"
     ]
    }
   ],
   "source": [
    "import array\n",
    "\n",
    "# 1. Array\n",
    "# Array adalah struktur data yang menyimpan elemen dengan tipe data yang sama.\n",
    "# Untuk menggunakan array di Python, kita perlu mengimpor modul `array`.\n",
    "\n",
    "# Membuat array\n",
    "arr = array.array('i', [1, 2, 3, 4, 5])  # 'i' menunjukkan tipe data integer\n",
    "print(\"Array:\", arr)\n",
    "\n",
    "# Akses elemen array\n",
    "print(\"Elemen pertama:\", arr[0])\n",
    "\n",
    "# Menambahkan elemen\n",
    "arr.append(6)\n",
    "print(\"Setelah append:\", arr)\n",
    "\n",
    "# Menghapus elemen\n",
    "arr.remove(3)\n",
    "print(\"Setelah remove:\", arr)\n",
    "\n",
    "# 2. Tuple\n",
    "# Tuple adalah struktur data yang bersifat immutable (tidak dapat diubah setelah dibuat).\n",
    "tup = (1, 2, 3, 4, 5)\n",
    "print(\"Tuple:\", tup)\n",
    "\n",
    "# Akses elemen tuple\n",
    "print(\"Elemen pertama:\", tup[0])\n",
    "\n",
    "# Tuple tidak dapat diubah, jadi tidak ada operasi seperti append atau remove.\n",
    "\n",
    "# 3. List Linear\n",
    "# List adalah struktur data yang fleksibel dan dapat menyimpan elemen dengan tipe data campuran.\n",
    "linear_list = [1, 2, 3, 4, 5]\n",
    "print(\"List Linear:\", linear_list)\n",
    "\n",
    "# Akses elemen list\n",
    "print(\"Elemen pertama:\", linear_list[0])\n",
    "\n",
    "# Menambahkan elemen\n",
    "linear_list.append(6)\n",
    "print(\"Setelah append:\", linear_list)\n",
    "\n",
    "# Menghapus elemen\n",
    "linear_list.remove(3)\n",
    "print(\"Setelah remove:\", linear_list)\n",
    "\n",
    "# 4. List Non-Linear\n",
    "# List non-linear dapat berupa list bersarang (nested list) yang merepresentasikan struktur data seperti pohon atau graf.\n",
    "non_linear_list = [[1, 2], [3, 4], [5, 6]]\n",
    "print(\"List Non-Linear:\", non_linear_list)\n",
    "\n",
    "# Akses elemen list non-linear\n",
    "print(\"Elemen pertama dari list pertama:\", non_linear_list[0][0])\n",
    "\n",
    "# Menambahkan elemen\n",
    "non_linear_list.append([7, 8])\n",
    "print(\"Setelah append:\", non_linear_list)\n",
    "\n",
    "# 5. Dictionary\n",
    "# Dictionary adalah struktur data yang menyimpan pasangan key-value.\n",
    "dictionary = {\"nama\": \"Alice\", \"umur\": 25, \"kota\": \"Jakarta\"}\n",
    "print(\"Dictionary:\", dictionary)\n",
    "\n",
    "# Akses elemen dictionary\n",
    "print(\"Nama:\", dictionary[\"nama\"])\n",
    "\n",
    "# Menambahkan elemen\n",
    "dictionary[\"pekerjaan\"] = \"Programmer\"\n",
    "print(\"Setelah menambahkan pekerjaan:\", dictionary)\n",
    "\n",
    "# Menghapus elemen\n",
    "del dictionary[\"umur\"]\n",
    "print(\"Setelah menghapus umur:\", dictionary)"
   ]
  },
  {
   "cell_type": "code",
   "execution_count": 2,
   "id": "871161c4",
   "metadata": {},
   "outputs": [
    {
     "name": "stdout",
     "output_type": "stream",
     "text": [
      "140729531491112\n",
      "140729531491144\n",
      "140729531491176\n"
     ]
    }
   ],
   "source": [
    "# Membuat sebuah list bernama var_list dengan elemen-elemen [1, 2, 3]\n",
    "var_list = [1, 2, 3]\n",
    "\n",
    "# Melakukan iterasi (loop) pada setiap elemen di dalam var_list\n",
    "for elemen in var_list:\n",
    "    # Mencetak ID unik dari setiap elemen dalam var_list\n",
    "    # ID ini adalah alamat memori tempat elemen tersebut disimpan\n",
    "    print(id(elemen))"
   ]
  },
  {
   "cell_type": "code",
   "execution_count": 7,
   "id": "1d44be46",
   "metadata": {},
   "outputs": [
    {
     "name": "stdout",
     "output_type": "stream",
     "text": [
      "Contoh Array dengan default value: [11, 11, 11, 11, 11, 11, 11, 11, 11, 11, 11, 11, 11, 11, 11, 11, 11, 11, 11, 11, 11, 11, 11, 11, 11]\n",
      "dimana value nya itu:  11 , dengan panjang array:  25\n",
      "Elemen pertama dari contoh array: 11\n"
     ]
    },
    {
     "data": {
      "text/plain": [
       "'\\n    Untuk mengubah elemen pada indeks tertentu, kita bisa langsung mengaksesnya\\n    dan memberikan nilai baru.\\n'"
      ]
     },
     "execution_count": 7,
     "metadata": {},
     "output_type": "execute_result"
    }
   ],
   "source": [
    "\n",
    "\"\"\"\n",
    "    Ternyata pada Array kita bisa set default value nya lho! dengan format\n",
    "    Var= [default_value for i in range(n)]\n",
    "    \n",
    "    <Var> merupakan variabel yang Anda deklarasikan.\n",
    "    <default_value> merupakan nilai default yang Anda definisikan. Umumnya, programmer akan menggunakan nilai di luar range yang telah disepakati sebagai nilai default. Misalnya jika range nilai yang disepakati seharusnya 1 hingga 10, nilai default bisa kita definisikan dengan 0. \n",
    "    <n> merupakan ukuran panjangnya array.\n",
    "\"\"\"\n",
    "\n",
    "contoh = [11 for i in range(25)]\n",
    "print(\"Contoh Array dengan default value:\", contoh)\n",
    "print(\"dimana value nya itu: \",contoh[0], \", dengan panjang array: \", len(contoh))\n",
    "\n",
    "\"\"\"\n",
    "    Jika ingin mengakses elemen array, kita bisa menggunakan indeks seperti pada list.\n",
    "    Indeks dimulai dari 0, jadi untuk mengakses elemen pertama, kita menggunakan\n",
    "    contoh : \n",
    "\"\"\"\n",
    "print(\"Elemen pertama dari contoh array:\", contoh[0])\n",
    "\"\"\"\n",
    "    Untuk mengubah elemen pada indeks tertentu, kita bisa langsung mengaksesnya\n",
    "    dan memberikan nilai baru.\n",
    "\"\"\""
   ]
  },
  {
   "cell_type": "markdown",
   "id": "673e64ea",
   "metadata": {},
   "source": [
    "### Pengulangan Sekuensial pada Array di Python\n",
    "\n",
    "Pengulangan sekuensial adalah proses iterasi melalui elemen-elemen dalam array atau struktur data lainnya secara berurutan. Di Python, pengulangan ini dapat dilakukan menggunakan **loop `for`**. Berikut adalah penjelasan langkah-langkahnya:\n",
    "\n",
    "1. **Deklarasi Array**  \n",
    "    Array dideklarasikan menggunakan modul `array`. Contoh:\n",
    "    ```python\n",
    "    import array\n",
    "    arr = array.array('i', [1, 2, 4, 5, 6])\n",
    "    ```\n",
    "\n",
    "2. **Pengulangan dengan `for`**  \n",
    "    Gunakan loop `for` untuk mengakses setiap elemen dalam array:\n",
    "    ```python\n",
    "    for elemen in arr:\n",
    "         print(elemen)\n",
    "    ```\n",
    "    Pada setiap iterasi, variabel `elemen` akan berisi nilai dari elemen array secara berurutan.\n",
    "\n",
    "3. **Akses Indeks (Opsional)**  \n",
    "    Jika Anda ingin mengakses indeks elemen, gunakan fungsi `enumerate`:\n",
    "    ```python\n",
    "    for indeks, elemen in enumerate(arr):\n",
    "         print(f\"Indeks: {indeks}, Elemen: {elemen}\")\n",
    "    ```\n",
    "\n",
    "4. **Manfaat**  \n",
    "    - Mempermudah manipulasi data.\n",
    "    - Digunakan untuk operasi seperti pencarian, penghitungan, atau modifikasi elemen.\n",
    "\n",
    "Pengulangan sekuensial ini juga berlaku untuk struktur data lain seperti **list**, **tuple**, dan **dictionary**."
   ]
  },
  {
   "cell_type": "code",
   "execution_count": null,
   "id": "84dc4467",
   "metadata": {},
   "outputs": [],
   "source": [
    "import array    \n",
    "\n",
    "arr = array.array('i', [1, 2, 4, 5, 6])\n",
    "\n",
    "for elemen in arr:\n",
    "    print(elemen)\n",
    "    \n",
    "for indeks, elemen in enumerate(arr):\n",
    "    print(f\"Indeks: {indeks}, Elemen: {elemen}\")\n",
    "\n",
    "# Bisa juga untuk membaca elemen array yang AKAN diambil\n",
    "\n",
    "for i in range(len(arr)):\n",
    "    current_element = arr[i]\n",
    "    next_element = i + 1\n",
    "\n",
    "    if next_element < len(arr):\n",
    "        print(f\"Elemen saat ini: {current_element}, Elemen berikutnya: {arr[next_element]}\")\n",
    "    else:\n",
    "        print(f\"Elemen saat ini: {current_element}, Tidak ada elemen berikutnya\")\n",
    "\n",
    "\n",
    "\"\"\"\n",
    "    Pertama-tama, kita menginisialisasi variabel \"var_arr\" dengan nilai \"[1, 2, 3, 4, 5]\". Perulangan for digunakan untuk melakukan iterasi melalui setiap elemen array. Variabel \"i\" bertindak sebagai indeks saat ini yang digunakan untuk mengakses elemen dalam setiap iterasi atau perulangan.\n",
    "\n",
    "    Kemudian, setiap proses perulangan berlangsung, kita mengambil elemen saat ini menggunakan \"var_arr[i]\" dan menyimpannya pada variabel \"current_element\". Selanjutnya adalah mencari indeks berikutnya dengan cara menambahkan nilai \"1\" pada indeks saat ini atau \"i\". \n",
    "\n",
    "    Hasil dari operasi penjumlahan nilai \"1\" dengan indeks saat ini akan disimpan pada variabel \"next_index\". \"next_index\" berperan sebagai \"suksesor indeks\" yang merujuk pada indeks berikutnya berdasarkan indeks saat ini dengan menambahkan nilai \"1\". \n",
    "\n",
    "    Kemudian kita memeriksa \"next_index\" berada dalam rentang indeks yang valid dalam array atau tidak. Jika iya, artinya masih ada elemen berikutnya, dan kita ambil elemen berikutnya tersebut menggunakan \"var_arr[next_index]\" serta menyimpannya dalam variabel \"next_element\". Sebaliknya, jika \"next_index\" tidak valid atau melebihi rentang array, artinya tidak ada elemen berikutnya sehingga kita menetapkan \"next_element\" sebagai \"None\".\n",
    "\"\"\""
   ]
  },
  {
   "cell_type": "code",
   "execution_count": 18,
   "id": "becf9579",
   "metadata": {},
   "outputs": [
    {
     "name": "stdout",
     "output_type": "stream",
     "text": [
      "Rata-rata dari elemen array: 50.0\n",
      "[0, 1, 2, 3, 4, 5, 6, 7, 8, 9, 10, 11, 12, 13, 14, 15, 16, 17, 18, 19, 20, 21, 22, 23, 24, 25, 26, 27, 28, 29, 30, 31, 32, 33, 34, 35, 36, 37, 38, 39, 40, 41, 42, 43, 44, 45, 46, 47, 48, 49, 50, 51, 52, 53, 54, 55, 56, 57, 58, 59, 60, 61, 62, 63, 64, 65, 66, 67, 68, 69, 70, 71, 72, 73, 74, 75, 76, 77, 78, 79, 80, 81, 82, 83, 84, 85, 86, 87, 88, 89, 90, 91, 92, 93, 94, 95, 96, 97, 98, 99, 100]\n"
     ]
    }
   ],
   "source": [
    "\"\"\"\n",
    "TODO:\n",
    "Sebuah variabel array diberikan dengan ketentuan berikut.\n",
    "- Variabel array bernama \"var_array\" dengan nilai dari 0 hingga 100.\n",
    "- Hitung nilai rata-rata dari elemen array tersebut.\n",
    "- Simpan hasil perhitungan dalam variabel bernama \"result\".\n",
    "\n",
    "Tips:\n",
    "- Rumus menghitung rata-rata adalah jumlah seluruh elemen dibagi banyaknya elemen.\n",
    "- Gunakan percabangan dan perulangan untuk mempermudah, \n",
    "  Anda tidak diperbolehkan memberikan nilai secara langsung.\n",
    "\"\"\"\n",
    "\n",
    "\n",
    "var_array = [i for i in range(101)]  # Membuat array dari 0 hingga 100\n",
    "rata_rata = sum(var_array) / len(var_array)  # Menghitung rata-rata\n",
    "result = rata_rata\n",
    "\n",
    "print(\"Rata-rata dari elemen array:\", result)\n",
    "print(var_array)"
   ]
  }
 ],
 "metadata": {
  "kernelspec": {
   "display_name": "Python 3",
   "language": "python",
   "name": "python3"
  },
  "language_info": {
   "codemirror_mode": {
    "name": "ipython",
    "version": 3
   },
   "file_extension": ".py",
   "mimetype": "text/x-python",
   "name": "python",
   "nbconvert_exporter": "python",
   "pygments_lexer": "ipython3",
   "version": "3.11.4"
  }
 },
 "nbformat": 4,
 "nbformat_minor": 5
}
