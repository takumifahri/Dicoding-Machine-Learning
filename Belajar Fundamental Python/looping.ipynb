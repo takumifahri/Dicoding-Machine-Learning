{
 "cells": [
  {
   "cell_type": "markdown",
   "id": "c656b534",
   "metadata": {},
   "source": [
    "For merupakan salah satu keyword untuk pengulangan pada python dimana yang bersifat definite iteration\n",
    "yang artinya sebuah proses iterasi atau perulangan yg sudah diketuhi jumlahnya atau di deklarasikan sebelumnya. Biasanya bsia berupa variable, list, tuple, dictionary, set, string, atau range."
   ]
  },
  {
   "cell_type": "code",
   "execution_count": null,
   "id": "7d39d725",
   "metadata": {},
   "outputs": [],
   "source": [
    "\n",
    "# COntoh 1\n",
    "for i in range(20):\n",
    "    print(i) # ini akan membuat vertical hasilnya dari 0 sanpai 19\n",
    "\n"
   ]
  },
  {
   "cell_type": "code",
   "execution_count": null,
   "id": "bc5ccb19",
   "metadata": {},
   "outputs": [],
   "source": [
    "# Contoh 2\n",
    "var_contoh = [1,2,3,4,5,6,7,8,9,10]\n",
    "for i in var_contoh:\n",
    "    print(i) # ini akan membuat vertical hasilnya dari 1 sampai 10\n"
   ]
  },
  {
   "cell_type": "markdown",
   "id": "302cda94",
   "metadata": {},
   "source": [
    " Range merupakan salah satu fungsi bawaan python yang digunakan untuk membuat sebuah iterable object yang berisi\n",
    "    deretan angka. Fungsi ini sering digunakan dalam perulangan (looping) untuk menghasilkan urutan angka tertentu.\n",
    "\n",
    "    Rumus Range \n",
    "    range(start, stop, step)\n",
    "    - start: Angka awal dari deretan (default adalah 0).    \n",
    "    - stop: Angka akhir dari deretan (tidak termasuk angka ini).\n",
    "    - step: Langkah atau interval antar angka dalam deretan (default adalah 1)."
   ]
  },
  {
   "cell_type": "code",
   "execution_count": null,
   "id": "3b5b751b",
   "metadata": {},
   "outputs": [],
   "source": [
    "# Contoh 3\n",
    "for i in range(2, 10, 2):\n",
    "    print(i) # ini akan membuat vertical hasilnya dari 2 sampai 8 dengan interval 2"
   ]
  },
  {
   "cell_type": "markdown",
   "id": "a932621f",
   "metadata": {},
   "source": [
    "**WHILE** merupakan salah satu sintaks di python yg berfungsi sebagai indefinite iteration, yakni sebuah proses proses iterasi yang akan berhenti ketika memenuhi kondisi tertentu.\n"
   ]
  },
  {
   "cell_type": "markdown",
   "id": "0af10272",
   "metadata": {},
   "source": [
    "Dimana kita membutuhkan sebuah kondisi agar dia berhenti, Jika dia tidak ada kondisi maka akan menjadi infinite loop."
   ]
  },
  {
   "cell_type": "code",
   "execution_count": null,
   "id": "44af5fd3",
   "metadata": {},
   "outputs": [],
   "source": [
    "# Format While\n",
    "while kondisi:\n",
    "    # aksi yang akan dilakukan selama kondisi bernilai True"
   ]
  },
  {
   "cell_type": "code",
   "execution_count": null,
   "id": "678d5e2e",
   "metadata": {},
   "outputs": [],
   "source": [
    "# Contoh 4\n",
    "jari = 1\n",
    "while jari <=10:\n",
    "    print(\"Jari-jari ke-\", jari) # ini akan membuat vertical hasilnya dari 1 sampai 10\n",
    "    jari += 1 # increment jari dengan 1 setiap iterasi"
   ]
  },
  {
   "cell_type": "code",
   "execution_count": null,
   "id": "3e00c9ca",
   "metadata": {},
   "outputs": [],
   "source": [
    "# contoh 5 jika tidak ada statement pada while kondisi\n",
    "jari = 1\n",
    "while jari <=10:\n",
    "    print(jari)"
   ]
  },
  {
   "cell_type": "markdown",
   "id": "b8402f65",
   "metadata": {},
   "source": [
    "### Apa itu Nested Loop?\n",
    "\n",
    "**Nested Loop** adalah konsep di mana sebuah perulangan (loop) berada di dalam perulangan lainnya. Dalam kata lain, kita memiliki loop di dalam loop. Nested loop sering digunakan ketika kita perlu mengiterasi data yang memiliki struktur berlapis, seperti matriks, tabel, atau data hierarkis.\n",
    "\n",
    "---\n",
    "\n",
    "### Konsep Sederhana untuk Pemula\n",
    "\n",
    "Bayangkan Anda memiliki daftar kelas, dan setiap kelas memiliki daftar siswa. Untuk mencetak nama setiap siswa di setiap kelas, Anda memerlukan perulangan untuk setiap kelas, dan di dalamnya, perulangan lain untuk setiap siswa dalam kelas tersebut.\n",
    "\n",
    "---\n",
    "\n",
    "### Contoh Penggunaan Nested Loop\n",
    "\n",
    "#### Contoh 1: Matriks\n",
    "Matriks adalah struktur data dua dimensi yang sering digunakan dalam matematika dan pemrograman. Berikut adalah contoh bagaimana kita dapat menggunakan nested loop untuk mengakses elemen-elemen dalam matriks:\n"
   ]
  },
  {
   "cell_type": "code",
   "execution_count": null,
   "id": "65212a1a",
   "metadata": {},
   "outputs": [
    {
     "name": "stdout",
     "output_type": "stream",
     "text": [
      "i = 1 ii = 1\n",
      "1 1\n",
      "i = 1 ii = 2\n",
      "1 2\n",
      "i = 1 ii = 3\n",
      "1 3\n",
      "i = 2 ii = 1\n",
      "2 1\n",
      "i = 2 ii = 2\n",
      "2 2\n",
      "i = 2 ii = 3\n",
      "2 3\n",
      "i = 3 ii = 1\n",
      "3 1\n",
      "i = 3 ii = 2\n",
      "3 2\n",
      "i = 3 ii = 3\n",
      "3 3\n"
     ]
    }
   ],
   "source": [
    "# Contoh 6\n",
    "for i in range(1,4):\n",
    "    \n",
    "    for ii in range(1,4):\n",
    "        print(\"i =\", i, \"ii =\", ii)\n",
    "        print(i, ii)\n",
    "        "
   ]
  },
  {
   "cell_type": "markdown",
   "id": "1ee0008a",
   "metadata": {},
   "source": [
    "***BREAK*** digunakan untuk menghentikan perulangan secara paksa sebelum kondisi perulangan selesai. Ketika perintah `break` dieksekusi, program akan keluar dari blok perulangan dan melanjutkan eksekusi kode setelah perulangan tersebut."
   ]
  },
  {
   "cell_type": "code",
   "execution_count": 9,
   "id": "d9436fae",
   "metadata": {},
   "outputs": [
    {
     "name": "stdout",
     "output_type": "stream",
     "text": [
      "Perulangan luar: 0\n",
      "Perulangan dalam: 0\n",
      "Perulangan dalam: 1\n",
      "Perulangan luar: 1\n",
      "Perulangan dalam: 0\n",
      "Perulangan dalam: 1\n"
     ]
    }
   ],
   "source": [
    "for i in range(2):  # Perulangan tingkat pertama\n",
    "    print(\"Perulangan luar:\", i)\n",
    "    for j in range(10):  # Perulangan tingkat kedua\n",
    "        print(\"Perulangan dalam:\", j)\n",
    "        if j == 1:\n",
    "            break  # Menghentikan perulangan dalam jika j = 1\n",
    "\n"
   ]
  },
  {
   "cell_type": "code",
   "execution_count": 12,
   "id": "e44e7aea",
   "metadata": {},
   "outputs": [
    {
     "name": "stdout",
     "output_type": "stream",
     "text": [
      "Huruf saat ini: D\n",
      "Huruf saat ini: i\n",
      "Huruf saat ini: c\n",
      "Huruf saat ini: o\n",
      "Huruf saat ini: d\n",
      "Huruf saat ini: i\n",
      "Huruf saat ini: n\n",
      "Huruf saat ini: g\n"
     ]
    }
   ],
   "source": [
    "for huruf in 'Dicoding Indonesia':\n",
    "    if huruf == ' ':\n",
    "        break\n",
    "    print('Huruf saat ini: {}'.format(huruf))\n"
   ]
  },
  {
   "cell_type": "markdown",
   "id": "833f7100",
   "metadata": {},
   "source": [
    "```markdown\n",
    "**CONTINUE** adalah perintah dalam Python yang digunakan untuk melewati iterasi saat ini dan melanjutkan ke iterasi berikutnya dalam sebuah perulangan. Ketika `continue` dieksekusi, kode setelah perintah ini dalam blok perulangan akan dilewati, tetapi perulangan tidak dihentikan.  \n",
    "\n",
    "**Contoh Penggunaan `CONTINUE`:**\n",
    "\n",
    "Misalkan dalam sebuah proyek, kita memiliki daftar nama pelanggan yang ingin kita proses, tetapi kita ingin melewati pelanggan dengan nama tertentu (misalnya, pelanggan bernama \"John\"). Kita dapat menggunakan `continue` untuk melewati iterasi saat nama pelanggan adalah \"John\".\n"
   ]
  },
  {
   "cell_type": "code",
   "execution_count": 17,
   "id": "0cdb7523",
   "metadata": {},
   "outputs": [
    {
     "name": "stdout",
     "output_type": "stream",
     "text": [
      "0\n",
      "1\n",
      "3\n",
      "4\n"
     ]
    },
    {
     "data": {
      "text/plain": [
       "'\\nHasil:\\n\\n0\\n1\\n3\\n4\\n\\nPada contoh di atas, ketika `i` bernilai 2, perintah `continue` akan dilewati sehingga angka 2 tidak dicetak.\\n'"
      ]
     },
     "execution_count": 17,
     "metadata": {},
     "output_type": "execute_result"
    }
   ],
   "source": [
    "\n",
    "#Contoh:\n",
    "\"\"\"python\"\"\"\n",
    "for i in range(5):\n",
    "    if i == 2:\n",
    "        continue  # Melewati iterasi saat i = 2\n",
    "    print(i)\n",
    "\"\"\"\n",
    "Hasil:\n",
    "\n",
    "0\n",
    "1\n",
    "3\n",
    "4\n",
    "\n",
    "Pada contoh di atas, ketika `i` bernilai 2, perintah `continue` akan dilewati sehingga angka 2 tidak dicetak.\n",
    "\"\"\""
   ]
  },
  {
   "cell_type": "code",
   "execution_count": null,
   "id": "283d833c",
   "metadata": {},
   "outputs": [],
   "source": [
    "for huruf in 'Dicoding Indonesia':\n",
    "    if huruf == ' ':\n",
    "        continue\n",
    "    # Jika huruf adalah spasi, lewati iterasi ini\n",
    "    print('Huruf saat ini: {}'.format(huruf))\n"
   ]
  },
  {
   "cell_type": "markdown",
   "id": "d7676007",
   "metadata": {},
   "source": [
    "```markdown\n",
    "**ELSE** pada Python dapat digunakan setelah blok `for` atau `while`. Blok `else` akan dieksekusi jika perulangan selesai tanpa adanya perintah `break` yang menghentikan perulangan secara paksa.\n",
    "\n",
    "### ELSE setelah FOR\n",
    "Blok `else` setelah `for` akan dijalankan jika seluruh iterasi dalam perulangan `for` selesai tanpa adanya `break`.\n",
    "\n",
    "**Contoh:**\n",
    "```python\n",
    "for i in range(5):\n",
    "    if i == 3:\n",
    "        break\n",
    "    print(i)\n",
    "else:\n",
    "    print(\"Perulangan selesai tanpa break.\")\n",
    "```\n",
    "Pada contoh di atas, blok `else` tidak akan dijalankan karena terdapat `break` saat `i == 3`.\n",
    "\n",
    "**Contoh tanpa `break`:**\n",
    "```python\n",
    "for i in range(5):\n",
    "    print(i)\n",
    "else:\n",
    "    print(\"Perulangan selesai tanpa break.\")\n",
    "```\n",
    "Pada contoh ini, blok `else` akan dijalankan karena perulangan selesai tanpa `break`.\n",
    "\n",
    "---\n",
    "\n",
    "### ELSE setelah WHILE\n",
    "Blok `else` setelah `while` akan dijalankan jika kondisi `while` menjadi `False` tanpa adanya `break`.\n",
    "\n",
    "**Contoh:**\n",
    "```python\n",
    "jari = 1\n",
    "while jari <= 5:\n",
    "    if jari == 3:\n",
    "        break\n",
    "    print(jari)\n",
    "    jari += 1\n",
    "else:\n",
    "    print(\"Perulangan selesai tanpa break.\")\n",
    "```\n",
    "Pada contoh di atas, blok `else` tidak akan dijalankan karena terdapat `break` saat `jari == 3`.\n",
    "\n",
    "**Contoh tanpa `break`:**\n",
    "```python\n",
    "jari = 1\n",
    "while jari <= 5:\n",
    "    print(jari)\n",
    "    jari += 1\n",
    "else:\n",
    "    print(\"Perulangan selesai tanpa break.\")\n",
    "```\n",
    "Pada contoh ini, blok `else` akan dijalankan karena perulangan selesai tanpa `break`.\n",
    "\n",
    "---\n",
    "\n",
    "### Kesimpulan\n",
    "Blok `else` pada `for` dan `while` berguna untuk mengeksekusi kode tambahan jika perulangan selesai dengan normal tanpa interupsi `break`. Jika terdapat `break`, blok `else` akan dilewati.\n",
    "```"
   ]
  },
  {
   "cell_type": "code",
   "execution_count": 27,
   "id": "1d63205b",
   "metadata": {},
   "outputs": [
    {
     "name": "stdout",
     "output_type": "stream",
     "text": [
      "0\n",
      "1\n",
      "2\n",
      "3\n",
      "4\n",
      "Perulangan selesai tanpa break.\n"
     ]
    }
   ],
   "source": [
    "# Contoh else setelah for \n",
    "for i in range(5):\n",
    "    if i == 5:\n",
    "        break\n",
    "    print(i)\n",
    "else:\n",
    "    print(\"Perulangan selesai tanpa break.\")"
   ]
  },
  {
   "cell_type": "code",
   "execution_count": 28,
   "id": "e0fd3104",
   "metadata": {},
   "outputs": [
    {
     "name": "stdout",
     "output_type": "stream",
     "text": [
      "1\n",
      "2\n",
      "3\n",
      "4\n",
      "5\n",
      "Perulangan selesai tanpa break.\n"
     ]
    }
   ],
   "source": [
    "# Contoh Else setelah While\n",
    "jari = 1\n",
    "while jari <= 5:\n",
    "    print(jari)\n",
    "    jari += 1\n",
    "else:\n",
    "    print(\"Perulangan selesai tanpa break.\")"
   ]
  },
  {
   "cell_type": "markdown",
   "id": "dc85984a",
   "metadata": {},
   "source": [
    "***Pass*** statement adalah pernyataan yang digunakan jika Anda menginginkan sebuah pernyataan atau blok pernyataan (statement), tetapi tidak ada tindakan atau program tidak melakukan apa pun.  \n",
    "\n",
    " Statement pass digunakan dalam situasi-situasi ketika Python memerlukan adanya pernyataan, tetapi tidak memiliki tindakan yang perlu dilakukan pada saat itu.  \n",
    "\n",
    " Biasanya itu adalah kondisi ketika Anda membutuhkan placeholder untuk menunjukkan bahwa tidak ada operasi yang perlu dilakukan. Hal ini dapat membantu kita mengatur struktur kode secara rapi dan memungkinkan penambahan implementasi di kemudian hari."
   ]
  },
  {
   "cell_type": "code",
   "execution_count": 29,
   "id": "885ee603",
   "metadata": {},
   "outputs": [
    {
     "name": "stdout",
     "output_type": "stream",
     "text": [
      "x kurang dari atau sama dengan 50\n"
     ]
    }
   ],
   "source": [
    "x = 20\n",
    "if x> 50:\n",
    "    pass  # Tidak melakukan apa-apa jika x lebih besar dari 50\n",
    "elif x == 199:\n",
    "    print(\"x sama dengan 100\")\n",
    "else :\n",
    "    print(\"x kurang dari atau sama dengan 50\")"
   ]
  },
  {
   "cell_type": "markdown",
   "id": "438d419a",
   "metadata": {},
   "source": [
    "### List Comprehension\n",
    "\n",
    "**List Comprehension** adalah cara singkat dan elegan untuk membuat sebuah list baru berdasarkan list yang sudah ada atau iterable lainnya. Dengan menggunakan list comprehension, Anda dapat menulis kode yang lebih ringkas dan mudah dibaca dibandingkan dengan menggunakan perulangan `for` biasa.\n",
    "\n",
    "---\n",
    "\n",
    "### Sintaks Dasar List Comprehension\n",
    "\n",
    "```python\n",
    "new_variable = [expression for item in iterable if condition]\n",
    "```\n",
    "\n",
    "- **expression**: Operasi atau nilai yang akan dimasukkan ke dalam list baru.\n",
    "- **item**: Elemen dari iterable (misalnya list, tuple, string, atau range).\n",
    "- **iterable**: Sumber data yang akan diiterasi.\n",
    "- **condition** *(opsional)*: Kondisi yang harus dipenuhi agar elemen dimasukkan ke dalam list baru.\n",
    "\n",
    "---\n",
    "\n",
    "### Contoh Penggunaan List Comprehension\n",
    "\n",
    "#### 1. Membuat List Baru Berdasarkan List Lama\n",
    "Misalnya, Anda memiliki list angka dan ingin membuat list baru yang berisi kuadrat dari angka-angka tersebut.\n",
    "\n",
    "```python\n",
    "angka = [1, 2, 3, 4, 5]\n",
    "kuadrat = [x**2 for x in angka]\n",
    "print(kuadrat)  # Output: [1, 4, 9, 16, 25]\n",
    "```\n",
    "\n",
    "#### 2. Menambahkan Kondisi\n",
    "Anda dapat menambahkan kondisi untuk memfilter elemen yang akan dimasukkan ke dalam list baru.\n",
    "\n",
    "```python\n",
    "angka = [1, 2, 3, 4, 5]\n",
    "genap = [x for x in angka if x % 2 == 0]\n",
    "print(genap)  # Output: [2, 4]\n",
    "```\n",
    "\n",
    "#### 3. Nested List Comprehension\n",
    "List comprehension juga dapat digunakan untuk membuat list dua dimensi (nested list).\n",
    "\n",
    "```python\n",
    "matriks = [[i * j for j in range(1, 4)] for i in range(1, 4)]\n",
    "print(matriks)  # Output: [[1, 2, 3], [2, 4, 6], [3, 6, 9]]\n",
    "```\n",
    "\n",
    "---\n",
    "\n",
    "### Kapan Menggunakan List Comprehension?\n",
    "\n",
    "List comprehension sangat berguna dalam situasi berikut:\n",
    "1. **Transformasi Data**: Ketika Anda ingin membuat list baru dengan memodifikasi elemen-elemen dari list lama.\n",
    "2. **Filter Data**: Ketika Anda ingin membuat list baru dengan elemen-elemen yang memenuhi kondisi tertentu.\n",
    "3. **Operasi Matematika**: Ketika Anda ingin melakukan operasi matematika pada elemen-elemen list.\n",
    "4. **Membuat Nested List**: Ketika Anda ingin membuat list dua dimensi atau lebih.\n",
    "\n",
    "---\n",
    "\n",
    "### Contoh Situasi dalam Proyek\n",
    "\n",
    "#### 1. **Proyek Data Cleaning**\n",
    "Misalnya, Anda memiliki list nama pelanggan, dan Anda ingin membuat list baru yang hanya berisi nama pelanggan yang panjangnya lebih dari 5 karakter.\n",
    "\n",
    "```python\n",
    "pelanggan = [\"Alice\", \"Bob\", \"Charlie\", \"David\"]\n",
    "pelanggan_panjang = [nama for nama in pelanggan if len(nama) > 5]\n",
    "print(pelanggan_panjang)  # Output: ['Charlie']\n",
    "```\n",
    "\n",
    "#### 2. **Proyek Machine Learning**\n",
    "Dalam preprocessing data, Anda mungkin perlu membuat list baru yang berisi nilai-nilai yang telah dinormalisasi.\n",
    "\n",
    "```python\n",
    "data = [10, 20, 30, 40, 50]\n",
    "normalized = [x / max(data) for x in data]\n",
    "print(normalized)  # Output: [0.2, 0.4, 0.6, 0.8, 1.0]\n",
    "```\n",
    "\n",
    "#### 3. **Proyek Web Scraping**\n",
    "Setelah scraping data dari sebuah situs, Anda mungkin ingin memfilter elemen-elemen tertentu, seperti hanya mengambil URL yang mengandung kata kunci tertentu.\n",
    "\n",
    "```python\n",
    "urls = [\"https://example.com/page1\", \"https://example.com/about\", \"https://example.com/contact\"]\n",
    "filtered_urls = [url for url in urls if \"about\" in url]\n",
    "print(filtered_urls)  # Output: ['https://example.com/about']\n",
    "```\n",
    "\n",
    "---\n",
    "\n",
    "### Kesimpulan\n",
    "\n",
    "List comprehension adalah alat yang sangat kuat untuk membuat list baru dengan cara yang lebih ringkas dan efisien. Namun, gunakan list comprehension hanya jika kode tetap mudah dibaca. Jika logika terlalu kompleks, lebih baik gunakan perulangan `for` biasa untuk menjaga keterbacaan kode."
   ]
  },
  {
   "cell_type": "markdown",
   "id": "4b6ab8c1",
   "metadata": {},
   "source": [
    "```markdown\n",
    "### Penanganan Pengecualian (Exception Handling)\n",
    "\n",
    "Penanganan pengecualian adalah proses menangani kesalahan yang terjadi selama eksekusi program agar program tidak berhenti secara tiba-tiba. Python menyediakan mekanisme untuk menangani pengecualian menggunakan blok `try` dan `except`.\n",
    "\n",
    "---\n",
    "\n",
    "### Struktur Dasar Try-Except\n",
    "\n",
    "```python\n",
    "try:\n",
    "    # Kode yang mungkin menyebabkan pengecualian\n",
    "    hasil = 10 / 0\n",
    "except ZeroDivisionError:\n",
    "    # Kode yang dijalankan jika terjadi pengecualian\n",
    "    print(\"Kesalahan: Tidak dapat membagi angka dengan nol.\")\n",
    "```\n",
    "\n",
    "**Penjelasan:**\n",
    "1. **Blok `try`**: Berisi kode yang mungkin menyebabkan pengecualian.\n",
    "2. **Blok `except`**: Berisi kode yang akan dijalankan jika pengecualian terjadi.\n",
    "\n",
    "---\n",
    "\n",
    "### Penanganan Pengecualian dengan Struktur Lebih Dalam\n",
    "\n",
    "Python memungkinkan penggunaan beberapa blok `except` untuk menangani berbagai jenis pengecualian. Selain itu, Anda dapat menggunakan blok `else` dan `finally` untuk menangani kasus tambahan.\n",
    "\n",
    "```python\n",
    "try:\n",
    "    angka = int(input(\"Masukkan angka: \"))\n",
    "    hasil = 10 / angka\n",
    "except ZeroDivisionError:\n",
    "    print(\"Kesalahan: Tidak dapat membagi angka dengan nol.\")\n",
    "except ValueError:\n",
    "    print(\"Kesalahan: Input harus berupa angka.\")\n",
    "else:\n",
    "    print(\"Hasil:\", hasil)\n",
    "finally:\n",
    "    print(\"Eksekusi selesai.\")\n",
    "```\n",
    "\n",
    "**Penjelasan:**\n",
    "1. **Blok `else`**: Dieksekusi jika tidak ada pengecualian yang terjadi.\n",
    "2. **Blok `finally`**: Dieksekusi selalu, baik pengecualian terjadi atau tidak. Biasanya digunakan untuk membersihkan sumber daya, seperti menutup file atau koneksi database.\n",
    "\n",
    "---\n",
    "\n",
    "### Cara Kerja di Dunia Kerja\n",
    "\n",
    "Dalam dunia kerja, exception handling digunakan untuk memastikan aplikasi tetap berjalan meskipun terjadi kesalahan. Berikut adalah beberapa contoh penggunaannya:\n",
    "\n",
    "1. **Aplikasi Web**:\n",
    "   - Menangani kesalahan koneksi ke database.\n",
    "   - Menangani input pengguna yang tidak valid.\n",
    "\n",
    "2. **Proyek Data Science**:\n",
    "   - Menangani file yang hilang atau rusak saat membaca data.\n",
    "   - Menangani kesalahan pembagian nol dalam perhitungan statistik.\n",
    "\n",
    "3. **Proyek IoT**:\n",
    "   - Menangani kegagalan komunikasi dengan perangkat keras.\n",
    "   - Menangani data sensor yang tidak valid.\n",
    "\n",
    "---\n",
    "\n",
    "### Contoh Berdasarkan Proyek\n",
    "\n",
    "#### Proyek Web Scraping\n",
    "Saat melakukan scraping data dari sebuah situs, Anda mungkin menghadapi kesalahan seperti URL yang tidak valid atau situs yang tidak dapat diakses.\n",
    "\n",
    "```python\n",
    "import requests\n",
    "\n",
    "try:\n",
    "    response = requests.get(\"https://example.com\")\n",
    "    response.raise_for_status()  # Memicu pengecualian jika status kode HTTP adalah kesalahan\n",
    "    print(response.text)\n",
    "except requests.exceptions.HTTPError as e:\n",
    "    print(\"Kesalahan HTTP:\", e)\n",
    "except requests.exceptions.ConnectionError:\n",
    "    print(\"Kesalahan koneksi: Tidak dapat terhubung ke server.\")\n",
    "except Exception as e:\n",
    "    print(\"Kesalahan lain:\", e)\n",
    "finally:\n",
    "    print(\"Proses scraping selesai.\")\n",
    "```\n",
    "\n",
    "#### Proyek Machine Learning\n",
    "Saat memproses data, Anda mungkin menghadapi kesalahan seperti nilai yang hilang atau format data yang tidak sesuai.\n",
    "\n",
    "```python\n",
    "import pandas as pd\n",
    "\n",
    "try:\n",
    "    data = pd.read_csv(\"data.csv\")\n",
    "    print(data.head())\n",
    "except FileNotFoundError:\n",
    "    print(\"Kesalahan: File tidak ditemukan.\")\n",
    "except pd.errors.EmptyDataError:\n",
    "    print(\"Kesalahan: File kosong.\")\n",
    "except Exception as e:\n",
    "    print(\"Kesalahan lain:\", e)\n",
    "finally:\n",
    "    print(\"Proses membaca data selesai.\")\n",
    "```\n",
    "\n",
    "---\n",
    "\n",
    "### Kesimpulan\n",
    "\n",
    "Penanganan pengecualian sangat penting untuk membuat program yang andal dan tangguh. Dengan menggunakan `try`, `except`, `else`, dan `finally`, Anda dapat menangani berbagai jenis kesalahan dengan cara yang terstruktur dan profesional. Dalam dunia kerja, exception handling membantu memastikan aplikasi tetap berjalan meskipun terjadi kesalahan, sehingga pengalaman pengguna tetap optimal.\n",
    "```"
   ]
  },
  {
   "cell_type": "code",
   "execution_count": null,
   "id": "5501d8a2",
   "metadata": {},
   "outputs": [
    {
     "name": "stdout",
     "output_type": "stream",
     "text": [
      "[0, 2, 4, 6, 8, 10, 12, 14, 16, 18, 20, 22, 24, 26, 28, 30, 32, 34, 36, 38, 40, 42, 44, 46, 48, 50, 52, 54, 56, 58, 60, 62, 64, 66, 68, 70, 72, 74, 76, 78, 80, 82, 84, 86, 88, 90, 92, 94, 96, 98, 100, 102, 104, 106, 108, 110, 112, 114, 116, 118, 120, 122, 124, 126, 128, 130, 132, 134, 136, 138, 140, 142, 144, 146, 148, 150, 152, 154, 156, 158, 160, 162, 164, 166, 168, 170, 172, 174, 176, 178, 180, 182, 184, 186, 188, 190, 192, 194, 196, 198, 200, 202, 204, 206, 208, 210, 212, 214, 216, 218, 220, 222, 224, 226, 228, 230, 232, 234, 236, 238, 240, 242, 244, 246, 248, 250, 252, 254, 256, 258, 260, 262, 264, 266, 268, 270, 272, 274, 276, 278, 280, 282, 284, 286, 288, 290, 292, 294, 296, 298, 300, 302, 304, 306, 308, 310, 312, 314, 316, 318, 320, 322, 324, 326, 328, 330, 332, 334, 336, 338, 340, 342, 344, 346, 348, 350, 352, 354, 356, 358, 360, 362, 364, 366, 368, 370, 372, 374, 376, 378, 380, 382, 384, 386, 388, 390, 392, 394, 396, 398, 400, 402, 404, 406, 408, 410, 412, 414, 416, 418, 420, 422, 424, 426, 428, 430, 432, 434, 436, 438, 440, 442, 444, 446, 448, 450, 452, 454, 456, 458, 460, 462, 464, 466, 468, 470, 472, 474, 476, 478, 480, 482, 484, 486, 488, 490, 492, 494, 496, 498, 500]\n"
     ]
    }
   ],
   "source": [
    "# TEST DICODING\n",
    "\"\"\"\n",
    "    TODO:\n",
    "    Buatlah sebuah variabel bertipe list bernama \"evenNumber\" dengan ketentuan:\n",
    "    - variabel tersebut menampung bilangan genap dari 0 hingga 500 (ingat 0 dan 500 termasuk).\n",
    "\n",
    "    Tips:\n",
    "    Anda bisa menggunakan loop dan if atau list comprehension untuk memudahkan.\n",
    "\"\"\"\n",
    "\n",
    "evenNumber = [i for i in range(0, 501) if i % 2 == 0] #Jika modulus 2 adalah 0 maka itu bilangan genap\n",
    "print(evenNumber)  # Output: [0, 2, 4, ..., 500]"
   ]
  }
 ],
 "metadata": {
  "kernelspec": {
   "display_name": "Python 3",
   "language": "python",
   "name": "python3"
  },
  "language_info": {
   "codemirror_mode": {
    "name": "ipython",
    "version": 3
   },
   "file_extension": ".py",
   "mimetype": "text/x-python",
   "name": "python",
   "nbconvert_exporter": "python",
   "pygments_lexer": "ipython3",
   "version": "3.11.4"
  }
 },
 "nbformat": 4,
 "nbformat_minor": 5
}
